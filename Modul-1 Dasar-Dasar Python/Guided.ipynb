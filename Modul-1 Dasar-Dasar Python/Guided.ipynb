{
  "cells": [
    {
      "cell_type": "markdown",
      "metadata": {
        "id": "xWrelyMz-DQ2"
      },
      "source": [
        "Buat program yang menampilkan nama dan umur\n"
      ]
    },
    {
      "cell_type": "code",
      "execution_count": 1,
      "metadata": {
        "colab": {
          "base_uri": "https://localhost:8080/"
        },
        "id": "DA7fj6tp93C3",
        "outputId": "4d36e755-6bc9-4a74-a54b-c335674a9c8c"
      },
      "outputs": [
        {
          "name": "stdout",
          "output_type": "stream",
          "text": [
            "Nama : Naufal \n",
            "Umur : 19\n"
          ]
        }
      ],
      "source": [
        "nama = \"Naufal\"\n",
        "umur = 19\n",
        "print(f\"Nama : {nama} \\nUmur : {umur}\")"
      ]
    },
    {
      "cell_type": "markdown",
      "metadata": {
        "id": "ABXRmd6H-ZLR"
      },
      "source": [
        "Buat variabel untuk menyimpan nilai luas dan keliling lingkaran, hitung hasilnya."
      ]
    },
    {
      "cell_type": "code",
      "execution_count": null,
      "metadata": {
        "colab": {
          "base_uri": "https://localhost:8080/"
        },
        "id": "pxrjRTWc-Xcb",
        "outputId": "6629e504-c557-4a90-8b27-0fee5b4e962c"
      },
      "outputs": [
        {
          "name": "stdout",
          "output_type": "stream",
          "text": [
            "Luas Lingkaran : 201.06192982974676 \n",
            "Keliling Lingkaran : 50.26548245743669\n"
          ]
        }
      ],
      "source": [
        "from math import pi\n",
        "\n",
        "jari = 8\n",
        "luas = pi *jari**2\n",
        "keliling = 2*pi*jari\n",
        "print(f\"Luas Lingkaran : {luas} \\nKeliling Lingkaran : {keliling}\")\n"
      ]
    },
    {
      "cell_type": "markdown",
      "metadata": {
        "id": "2PyJDGf8AM-V"
      },
      "source": [
        "Tampilkan tipe data dari variabel yang menyimpan angka dan teks."
      ]
    },
    {
      "cell_type": "code",
      "execution_count": null,
      "metadata": {
        "colab": {
          "base_uri": "https://localhost:8080/"
        },
        "id": "on3aaOT_AC9e",
        "outputId": "a364624e-23c1-4347-98c3-733134ee1039"
      },
      "outputs": [
        {
          "name": "stdout",
          "output_type": "stream",
          "text": [
            "Tipe Data Angka : <class 'int'> \n",
            "Tipe Data Teks : <class 'str'>\n"
          ]
        }
      ],
      "source": [
        "angka = 129\n",
        "teks = 'ini angka'\n",
        "print(f\"Tipe Data Angka : {type(angka)} \\nTipe Data Teks : {type(teks)}\")"
      ]
    },
    {
      "cell_type": "markdown",
      "metadata": {
        "id": "-K7ATfPhAa85"
      },
      "source": [
        "Buat program yang mengubah nilai dari tipe integer menjadi float."
      ]
    },
    {
      "cell_type": "code",
      "execution_count": null,
      "metadata": {
        "colab": {
          "base_uri": "https://localhost:8080/"
        },
        "id": "Ux9cQlKyAX62",
        "outputId": "a16bef83-2ee2-476e-d691-f41b7be6d617"
      },
      "outputs": [
        {
          "name": "stdout",
          "output_type": "stream",
          "text": [
            "nilai kamu adalah 100 dan tipe datanya adalah <class 'int'>\n",
            "nilai kamu adalah 100.0 dan tipe datanya adalah <class 'float'>\n"
          ]
        }
      ],
      "source": [
        "nilai = 100\n",
        "print(f'nilai kamu adalah {nilai} dan tipe datanya adalah {type(nilai)}')\n",
        "nilai = float(nilai)\n",
        "print(f'nilai kamu adalah {nilai} dan tipe datanya adalah {type(nilai)}')"
      ]
    },
    {
      "cell_type": "markdown",
      "metadata": {
        "id": "LEnDjvjJAy4i"
      },
      "source": [
        "Buat program yang mengubah string menjadi integer dan sebaliknya."
      ]
    },
    {
      "cell_type": "code",
      "execution_count": null,
      "metadata": {
        "colab": {
          "base_uri": "https://localhost:8080/"
        },
        "id": "Rbj9tlgiAo78",
        "outputId": "62d8ff37-d515-40ac-da02-4396582f8d9d"
      },
      "outputs": [
        {
          "name": "stdout",
          "output_type": "stream",
          "text": [
            "Tipe Data a : <class 'str'>\n",
            "Tipe Data a : <class 'int'>\n"
          ]
        }
      ],
      "source": [
        "a = \"123\"\n",
        "print(f\"Tipe Data a : {type(a)}\")\n",
        "a = int(a)\n",
        "print(f\"Tipe Data a : {type(a)}\")"
      ]
    },
    {
      "cell_type": "markdown",
      "metadata": {
        "id": "pU0YjJM9Qdvp"
      },
      "source": [
        "Buat program yang mengalikan string dengan angka"
      ]
    },
    {
      "cell_type": "code",
      "execution_count": null,
      "metadata": {
        "colab": {
          "base_uri": "https://localhost:8080/"
        },
        "id": "BTBwi9rAQNYX",
        "outputId": "f2f26f27-81c1-47bc-cb42-e1dbcb33a4cc"
      },
      "outputs": [
        {
          "name": "stdout",
          "output_type": "stream",
          "text": [
            "ulang ulang ulang \n"
          ]
        }
      ],
      "source": [
        "text = \"ulang \"\n",
        "multiplied_text = text * 3\n",
        "print(multiplied_text)"
      ]
    },
    {
      "cell_type": "markdown",
      "metadata": {
        "id": "VwPAJsY2TRlq"
      },
      "source": [
        "Buat program yang memeriksa apakah angka adalah bilangan genap atau ganjil"
      ]
    },
    {
      "cell_type": "code",
      "execution_count": null,
      "metadata": {
        "colab": {
          "base_uri": "https://localhost:8080/"
        },
        "id": "ANUUOSIEQZ3P",
        "outputId": "15768e05-49fe-4e02-b6fe-2cf0a5d4e7a6"
      },
      "outputs": [
        {
          "name": "stdout",
          "output_type": "stream",
          "text": [
            "Ganjil\n"
          ]
        }
      ],
      "source": [
        "number = 7\n",
        "if number % 2 == 0:\n",
        "  print(\"Genap\")\n",
        "else:\n",
        "  print(\"Ganjil\")"
      ]
    },
    {
      "cell_type": "markdown",
      "metadata": {
        "id": "3gUQ9EMGTUFC"
      },
      "source": [
        "Buat program yang memeriksa apakah sebuah nilai lebih besar dari 100"
      ]
    },
    {
      "cell_type": "code",
      "execution_count": null,
      "metadata": {
        "colab": {
          "base_uri": "https://localhost:8080/"
        },
        "id": "xs6eTPjHQr0z",
        "outputId": "4210584d-e87f-494d-99ed-ad65f74425c1"
      },
      "outputs": [
        {
          "name": "stdout",
          "output_type": "stream",
          "text": [
            "lebih dari 100\n"
          ]
        }
      ],
      "source": [
        "value = 150\n",
        "if value > 100:\n",
        "    print(\"lebih dari 100\")\n",
        "else:\n",
        "    print(\"100 atau kurang dari\")"
      ]
    },
    {
      "cell_type": "markdown",
      "metadata": {
        "id": "iolG7ZW3TWmv"
      },
      "source": [
        "Buat program yang menerima input umur dan menampilkan kategori umur (anak-anak, remaja, dewasa)"
      ]
    },
    {
      "cell_type": "code",
      "execution_count": null,
      "metadata": {
        "colab": {
          "base_uri": "https://localhost:8080/"
        },
        "id": "X9LTNOb1Q307",
        "outputId": "20cd6b38-b928-4911-fd06-e9cc226096f4"
      },
      "outputs": [
        {
          "name": "stdout",
          "output_type": "stream",
          "text": [
            "Remaja\n"
          ]
        }
      ],
      "source": [
        "age = 16\n",
        "if age <= 12:\n",
        "    print(\"Anak-anak\")\n",
        "elif 13 <= age <= 17:\n",
        "    print(\"Remaja\")\n",
        "else:\n",
        "    print(\"Dewasa\")"
      ]
    },
    {
      "cell_type": "markdown",
      "metadata": {
        "id": "mdsgt1oZTk_L"
      },
      "source": [
        "Buat program yang meminta input nama pengguna, jika nama benar tampilkan \"Selamat datang\""
      ]
    },
    {
      "cell_type": "code",
      "execution_count": null,
      "metadata": {
        "colab": {
          "base_uri": "https://localhost:8080/"
        },
        "id": "h0-rzvfRQ5-e",
        "outputId": "a5243140-4df9-484f-a1de-7597f47d11eb"
      },
      "outputs": [
        {
          "name": "stdout",
          "output_type": "stream",
          "text": [
            "Enter username: Slamet\n",
            "Selamat datang Slamet\n"
          ]
        }
      ],
      "source": [
        "username = input(\"Enter username: \")\n",
        "if username == \"Jono\":\n",
        "    print(\"Selamat datang {username}\")\n",
        "elif username == \"Slamet\":\n",
        "    print(f\"Selamat datang {username}\")\n",
        "else:\n",
        "    print(\"Nama tidak dikenali\")"
      ]
    },
    {
      "cell_type": "markdown",
      "metadata": {
        "id": "yqpnewR5ToPJ"
      },
      "source": [
        "Buat program yang menampilkan apakah suatu tahun adalah tahun kabisat"
      ]
    },
    {
      "cell_type": "code",
      "execution_count": null,
      "metadata": {
        "colab": {
          "base_uri": "https://localhost:8080/"
        },
        "id": "Tnb9MAVOQ8Le",
        "outputId": "e3c93ca8-3c3f-4314-eec9-2a00b603922f"
      },
      "outputs": [
        {
          "name": "stdout",
          "output_type": "stream",
          "text": [
            "Tahun Kabisat\n"
          ]
        }
      ],
      "source": [
        "year = 2024\n",
        "if (year % 4 == 0 and year % 100 != 0) or (year % 400 == 0):\n",
        "    print(\"Tahun Kabisat\")\n",
        "else:\n",
        "    print(\"Bukan Tahun Kabisat\")\n"
      ]
    },
    {
      "cell_type": "markdown",
      "metadata": {
        "id": "OS9Ix8tETrn5"
      },
      "source": [
        "Buat program untuk menentukan apakah seseorang boleh memberikan suara berdasarkan umurnya"
      ]
    },
    {
      "cell_type": "code",
      "execution_count": null,
      "metadata": {
        "colab": {
          "base_uri": "https://localhost:8080/"
        },
        "id": "6GXV_nHVRSEi",
        "outputId": "12839e4d-aef5-4787-8576-314ab579b352"
      },
      "outputs": [
        {
          "name": "stdout",
          "output_type": "stream",
          "text": [
            "Boleh memberikan suara\n"
          ]
        }
      ],
      "source": [
        "age = 18\n",
        "if age >= 18:\n",
        "    print(\"Boleh memberikan suara\")\n",
        "else:\n",
        "    print(\"Tidak boleh memberikan suara\")"
      ]
    },
    {
      "cell_type": "markdown",
      "metadata": {
        "id": "09oynhu5Tugj"
      },
      "source": [
        "Buat program yang meminta input tiga angka dan menampilkan angka terbesar."
      ]
    },
    {
      "cell_type": "code",
      "execution_count": null,
      "metadata": {
        "colab": {
          "base_uri": "https://localhost:8080/"
        },
        "id": "oI9i78RnRVuJ",
        "outputId": "9397b116-4771-43f8-99fa-25196e76ce16"
      },
      "outputs": [
        {
          "name": "stdout",
          "output_type": "stream",
          "text": [
            "Nilai terbesar 7\n"
          ]
        }
      ],
      "source": [
        "a, b, c = 3, 7, 5\n",
        "largest = max(a, b, c)\n",
        "print(f\"Nilai terbesar {largest}\")\n"
      ]
    },
    {
      "cell_type": "markdown",
      "metadata": {
        "id": "kef6g1J3TzFh"
      },
      "source": [
        "Buat program yang mengecek apakah dua string memiliki panjang yang sama"
      ]
    },
    {
      "cell_type": "code",
      "execution_count": null,
      "metadata": {
        "colab": {
          "base_uri": "https://localhost:8080/"
        },
        "id": "67IDz0NSRbYi",
        "outputId": "2b2105e6-2c3f-4220-acb1-e4b895f1ba6e"
      },
      "outputs": [
        {
          "name": "stdout",
          "output_type": "stream",
          "text": [
            "Memiliki Panjang yg sama\n"
          ]
        }
      ],
      "source": [
        "str1 = \"hello\"\n",
        "str2 = \"world\"\n",
        "if len(str1) == len(str2):\n",
        "    print(\"Memiliki Panjang yg sama\")\n",
        "else:\n",
        "    print(\"Memiliki panjang yg berbeda\")\n"
      ]
    },
    {
      "cell_type": "markdown",
      "metadata": {
        "id": "5XPjo4NaT2AO"
      },
      "source": [
        "Buat program yang menampilkan angka 1 sampai 10 menggunakan for loop"
      ]
    },
    {
      "cell_type": "code",
      "execution_count": null,
      "metadata": {
        "colab": {
          "base_uri": "https://localhost:8080/"
        },
        "id": "876gZBwqRj4z",
        "outputId": "cea500de-e74f-478e-8a22-2f8846d0878f"
      },
      "outputs": [
        {
          "name": "stdout",
          "output_type": "stream",
          "text": [
            "1\n",
            "2\n",
            "3\n",
            "4\n",
            "5\n",
            "6\n",
            "7\n",
            "8\n",
            "9\n",
            "10\n"
          ]
        }
      ],
      "source": [
        "for i in range(1, 11):\n",
        "    print(i)"
      ]
    },
    {
      "cell_type": "markdown",
      "metadata": {
        "id": "XFH5yMbxT4c-"
      },
      "source": [
        "Buat program yang menampilkan bilangan genap dari 2 sampai 20 menggunakan while loop"
      ]
    },
    {
      "cell_type": "code",
      "execution_count": null,
      "metadata": {
        "colab": {
          "base_uri": "https://localhost:8080/"
        },
        "id": "Btbms_HMRm8s",
        "outputId": "190638ed-bb47-4c65-891d-bdf41a908cd1"
      },
      "outputs": [
        {
          "name": "stdout",
          "output_type": "stream",
          "text": [
            "2\n",
            "4\n",
            "6\n",
            "8\n",
            "10\n",
            "12\n",
            "14\n",
            "16\n",
            "18\n",
            "20\n"
          ]
        }
      ],
      "source": [
        "i = 2\n",
        "while i <= 20:\n",
        "    print(i)\n",
        "    i += 2"
      ]
    },
    {
      "cell_type": "markdown",
      "metadata": {
        "id": "kydQtzdiT7_F"
      },
      "source": [
        "Buat program yang menerima input dan menampilkan kalimat tersebut sebanyak 5 kali"
      ]
    },
    {
      "cell_type": "code",
      "execution_count": null,
      "metadata": {
        "colab": {
          "base_uri": "https://localhost:8080/"
        },
        "id": "_eF6uidzRozT",
        "outputId": "cff9cef9-8164-4bc0-a851-c99703586d5e"
      },
      "outputs": [
        {
          "name": "stdout",
          "output_type": "stream",
          "text": [
            "Masukkan Kalimat: yanto gembul\n",
            "yanto gembul\n",
            "yanto gembul\n",
            "yanto gembul\n",
            "yanto gembul\n",
            "yanto gembul\n"
          ]
        }
      ],
      "source": [
        "sentence = input(\"Masukkan Kalimat: \")\n",
        "for _ in range(5):\n",
        "    print(sentence)\n"
      ]
    },
    {
      "cell_type": "markdown",
      "metadata": {
        "id": "sF9dYU__T_F0"
      },
      "source": [
        "Buat program untuk menghitung jumlah angka dari 1 sampai N"
      ]
    },
    {
      "cell_type": "code",
      "execution_count": null,
      "metadata": {
        "colab": {
          "base_uri": "https://localhost:8080/"
        },
        "id": "1MlKN68nRvvl",
        "outputId": "b4af21d3-826e-4f6c-d93d-29b90972df59"
      },
      "outputs": [
        {
          "name": "stdout",
          "output_type": "stream",
          "text": [
            "Sum dari 1 to 10 adalah 55\n"
          ]
        }
      ],
      "source": [
        "N = 10\n",
        "total_sum = sum(range(1, N + 1))\n",
        "print(f\"Sum dari 1 to {N} adalah {total_sum}\")"
      ]
    },
    {
      "cell_type": "markdown",
      "metadata": {
        "id": "CNU7ux0nUBg_"
      },
      "source": [
        "Buat program yang menggunakan break untuk keluar dari loop jika kondisi tertentu terpenuhi"
      ]
    },
    {
      "cell_type": "code",
      "execution_count": null,
      "metadata": {
        "colab": {
          "base_uri": "https://localhost:8080/"
        },
        "id": "1wYm6HqtR0I9",
        "outputId": "04660780-03ec-44cb-a32f-2813d72864ed"
      },
      "outputs": [
        {
          "name": "stdout",
          "output_type": "stream",
          "text": [
            "1\n",
            "2\n",
            "3\n",
            "4\n"
          ]
        }
      ],
      "source": [
        "for i in range(1, 11):\n",
        "    if i == 5:\n",
        "        break\n",
        "    print(i)"
      ]
    },
    {
      "cell_type": "markdown",
      "metadata": {
        "id": "dv7NhtUHUEVG"
      },
      "source": [
        "Buat program yang menggunakan continue untuk melewati iterasi tertentu dalam loop"
      ]
    },
    {
      "cell_type": "code",
      "execution_count": null,
      "metadata": {
        "colab": {
          "base_uri": "https://localhost:8080/"
        },
        "id": "dcVq-xO_R7sf",
        "outputId": "879386a9-5120-4234-ff65-a59cd1b376df"
      },
      "outputs": [
        {
          "name": "stdout",
          "output_type": "stream",
          "text": [
            "1\n",
            "2\n",
            "3\n",
            "4\n",
            "6\n",
            "7\n",
            "8\n",
            "9\n",
            "10\n"
          ]
        }
      ],
      "source": [
        "for i in range(1, 11):\n",
        "    if i == 5:\n",
        "        continue\n",
        "    print(i)"
      ]
    },
    {
      "cell_type": "markdown",
      "metadata": {
        "id": "zSrxY3aTUH7E"
      },
      "source": [
        "Buat program yang menampilkan tabel perkalian 1 sampai 10"
      ]
    },
    {
      "cell_type": "code",
      "execution_count": null,
      "metadata": {
        "colab": {
          "base_uri": "https://localhost:8080/"
        },
        "id": "-2130UldR-xl",
        "outputId": "dd14e8c3-581a-42b2-a17a-90a49aa98582"
      },
      "outputs": [
        {
          "name": "stdout",
          "output_type": "stream",
          "text": [
            "1 x 1 = 1\n",
            "1 x 2 = 2\n",
            "1 x 3 = 3\n",
            "1 x 4 = 4\n",
            "1 x 5 = 5\n",
            "1 x 6 = 6\n",
            "1 x 7 = 7\n",
            "1 x 8 = 8\n",
            "1 x 9 = 9\n",
            "1 x 10 = 10\n",
            "\n",
            "2 x 1 = 2\n",
            "2 x 2 = 4\n",
            "2 x 3 = 6\n",
            "2 x 4 = 8\n",
            "2 x 5 = 10\n",
            "2 x 6 = 12\n",
            "2 x 7 = 14\n",
            "2 x 8 = 16\n",
            "2 x 9 = 18\n",
            "2 x 10 = 20\n",
            "\n",
            "3 x 1 = 3\n",
            "3 x 2 = 6\n",
            "3 x 3 = 9\n",
            "3 x 4 = 12\n",
            "3 x 5 = 15\n",
            "3 x 6 = 18\n",
            "3 x 7 = 21\n",
            "3 x 8 = 24\n",
            "3 x 9 = 27\n",
            "3 x 10 = 30\n",
            "\n",
            "4 x 1 = 4\n",
            "4 x 2 = 8\n",
            "4 x 3 = 12\n",
            "4 x 4 = 16\n",
            "4 x 5 = 20\n",
            "4 x 6 = 24\n",
            "4 x 7 = 28\n",
            "4 x 8 = 32\n",
            "4 x 9 = 36\n",
            "4 x 10 = 40\n",
            "\n",
            "5 x 1 = 5\n",
            "5 x 2 = 10\n",
            "5 x 3 = 15\n",
            "5 x 4 = 20\n",
            "5 x 5 = 25\n",
            "5 x 6 = 30\n",
            "5 x 7 = 35\n",
            "5 x 8 = 40\n",
            "5 x 9 = 45\n",
            "5 x 10 = 50\n",
            "\n",
            "6 x 1 = 6\n",
            "6 x 2 = 12\n",
            "6 x 3 = 18\n",
            "6 x 4 = 24\n",
            "6 x 5 = 30\n",
            "6 x 6 = 36\n",
            "6 x 7 = 42\n",
            "6 x 8 = 48\n",
            "6 x 9 = 54\n",
            "6 x 10 = 60\n",
            "\n",
            "7 x 1 = 7\n",
            "7 x 2 = 14\n",
            "7 x 3 = 21\n",
            "7 x 4 = 28\n",
            "7 x 5 = 35\n",
            "7 x 6 = 42\n",
            "7 x 7 = 49\n",
            "7 x 8 = 56\n",
            "7 x 9 = 63\n",
            "7 x 10 = 70\n",
            "\n",
            "8 x 1 = 8\n",
            "8 x 2 = 16\n",
            "8 x 3 = 24\n",
            "8 x 4 = 32\n",
            "8 x 5 = 40\n",
            "8 x 6 = 48\n",
            "8 x 7 = 56\n",
            "8 x 8 = 64\n",
            "8 x 9 = 72\n",
            "8 x 10 = 80\n",
            "\n",
            "9 x 1 = 9\n",
            "9 x 2 = 18\n",
            "9 x 3 = 27\n",
            "9 x 4 = 36\n",
            "9 x 5 = 45\n",
            "9 x 6 = 54\n",
            "9 x 7 = 63\n",
            "9 x 8 = 72\n",
            "9 x 9 = 81\n",
            "9 x 10 = 90\n",
            "\n",
            "10 x 1 = 10\n",
            "10 x 2 = 20\n",
            "10 x 3 = 30\n",
            "10 x 4 = 40\n",
            "10 x 5 = 50\n",
            "10 x 6 = 60\n",
            "10 x 7 = 70\n",
            "10 x 8 = 80\n",
            "10 x 9 = 90\n",
            "10 x 10 = 100\n",
            "\n"
          ]
        }
      ],
      "source": [
        "for i in range(1, 11):\n",
        "    for j in range(1, 11):\n",
        "        print(f\"{i} x {j} = {i * j}\")\n",
        "    print()"
      ]
    },
    {
      "cell_type": "markdown",
      "metadata": {
        "id": "5WDjp1m4Ud-J"
      },
      "source": [
        "Buat program untuk menghitung jumlah bilangan ganjil antara dua bilangan yang diberikan"
      ]
    },
    {
      "cell_type": "code",
      "execution_count": null,
      "metadata": {
        "colab": {
          "base_uri": "https://localhost:8080/"
        },
        "id": "n6AxWgbnSB8L",
        "outputId": "5bf4f4af-eba3-4147-a668-810ab94bfdc1"
      },
      "outputs": [
        {
          "name": "stdout",
          "output_type": "stream",
          "text": [
            "Sum of odd numbers between 1 and 10 is 25\n"
          ]
        }
      ],
      "source": [
        "start = 1\n",
        "end = 10\n",
        "sum_odds = sum(i for i in range(start, end + 1) if i % 2 != 0)\n",
        "print(f\"Sum of odd numbers between {start} and {end} is {sum_odds}\")"
      ]
    },
    {
      "cell_type": "markdown",
      "metadata": {
        "id": "b9K3EWi8UnNn"
      },
      "source": [
        "Buat fungsi untuk menghitung luas segitiga"
      ]
    },
    {
      "cell_type": "code",
      "execution_count": null,
      "metadata": {
        "colab": {
          "base_uri": "https://localhost:8080/"
        },
        "id": "Wx7SWT1xSERD",
        "outputId": "bba037bc-4dfd-4d8a-c1e0-8ab1e993c9a1"
      },
      "outputs": [
        {
          "name": "stdout",
          "output_type": "stream",
          "text": [
            "25.0\n"
          ]
        }
      ],
      "source": [
        "def triangle_area(base, height):\n",
        "    return 0.5 * base * height\n",
        "\n",
        "print(triangle_area(10, 5))"
      ]
    },
    {
      "cell_type": "markdown",
      "metadata": {
        "id": "1dxthQZAUqSz"
      },
      "source": [
        "Buat fungsi yang menerima nama dan menampilkan \"Halo, [nama]\""
      ]
    },
    {
      "cell_type": "code",
      "execution_count": null,
      "metadata": {
        "colab": {
          "base_uri": "https://localhost:8080/"
        },
        "id": "WHBDSLMeSG6s",
        "outputId": "802ae6e1-a7f1-4cc4-ca14-cbec68d4d9d1"
      },
      "outputs": [
        {
          "name": "stdout",
          "output_type": "stream",
          "text": [
            "Halo, Alice\n"
          ]
        }
      ],
      "source": [
        "def greet(name):\n",
        "    print(f\"Halo, {name}\")\n",
        "\n",
        "greet(\"Alice\")"
      ]
    },
    {
      "cell_type": "markdown",
      "metadata": {
        "id": "c5AdVoH_UtLJ"
      },
      "source": [
        "Buat fungsi untuk memeriksa apakah suatu angka adalah bilangan prima"
      ]
    },
    {
      "cell_type": "code",
      "execution_count": null,
      "metadata": {
        "colab": {
          "base_uri": "https://localhost:8080/"
        },
        "id": "ghT7h4H_SJUe",
        "outputId": "818509c3-ab8f-4b06-ae18-73b4e752c759"
      },
      "outputs": [
        {
          "name": "stdout",
          "output_type": "stream",
          "text": [
            "True\n"
          ]
        }
      ],
      "source": [
        "def is_prime(n):\n",
        "    if n <= 1:\n",
        "        return False\n",
        "    for i in range(2, int(n**0.5) + 1):\n",
        "        if n % i == 0:\n",
        "            return False\n",
        "    return True\n",
        "\n",
        "print(is_prime(7))"
      ]
    },
    {
      "cell_type": "markdown",
      "metadata": {
        "id": "A18U33BlU1tL"
      },
      "source": [
        "Buat fungsi yang mengembalikan nilai maksimum dari tiga angka"
      ]
    },
    {
      "cell_type": "code",
      "execution_count": null,
      "metadata": {
        "colab": {
          "base_uri": "https://localhost:8080/"
        },
        "id": "N7hkq3DLSLPq",
        "outputId": "bc2093fd-895e-4413-bda5-75bd13400f79"
      },
      "outputs": [
        {
          "name": "stdout",
          "output_type": "stream",
          "text": [
            "7\n"
          ]
        }
      ],
      "source": [
        "def max_of_three(a, b, c):\n",
        "    return max(a, b, c)\n",
        "\n",
        "print(max_of_three(3, 7, 5))"
      ]
    },
    {
      "cell_type": "markdown",
      "metadata": {
        "id": "lyksDPfcU4KI"
      },
      "source": [
        "Buat fungsi yang mengkonversi suhu dari Celcius ke Fahrenheit"
      ]
    },
    {
      "cell_type": "code",
      "execution_count": null,
      "metadata": {
        "colab": {
          "base_uri": "https://localhost:8080/"
        },
        "id": "cCMvS7ZlSQnf",
        "outputId": "b215092a-79f8-45bf-ce55-84ede8ff7744"
      },
      "outputs": [
        {
          "name": "stdout",
          "output_type": "stream",
          "text": [
            "86.0\n"
          ]
        }
      ],
      "source": [
        "def celsius_ke_fahrenheit(celsius):\n",
        "    return (celsius * 9/5) + 32\n",
        "\n",
        "print(celsius_ke_fahrenheit(30))"
      ]
    },
    {
      "cell_type": "markdown",
      "metadata": {
        "id": "vYdh92EtU59f"
      },
      "source": [
        "Buat fungsi yang menerima dua string dan menggabungkannya."
      ]
    },
    {
      "cell_type": "code",
      "execution_count": null,
      "metadata": {
        "colab": {
          "base_uri": "https://localhost:8080/"
        },
        "id": "AS6H3UcYSSnW",
        "outputId": "898f7a6c-2e51-4b9b-d47d-e1bb699aa11c"
      },
      "outputs": [
        {
          "name": "stdout",
          "output_type": "stream",
          "text": [
            "Hello, World!\n"
          ]
        }
      ],
      "source": [
        "def gabung(str1, str2):\n",
        "    return str1 + str2\n",
        "\n",
        "print(gabung(\"Hello, \", \"World!\"))"
      ]
    },
    {
      "cell_type": "markdown",
      "metadata": {
        "id": "5sjiTKxBU89d"
      },
      "source": [
        "Buat fungsi rekursif untuk menghitung faktorial dari suatu angka."
      ]
    },
    {
      "cell_type": "code",
      "execution_count": null,
      "metadata": {
        "colab": {
          "base_uri": "https://localhost:8080/"
        },
        "id": "1LF0htf_ST94",
        "outputId": "6a993a2a-4fbe-4535-8ecd-64827c933b68"
      },
      "outputs": [
        {
          "name": "stdout",
          "output_type": "stream",
          "text": [
            "120\n"
          ]
        }
      ],
      "source": [
        "def factorial(n):\n",
        "    if n == 0:\n",
        "        return 1\n",
        "    else:\n",
        "        return n * factorial(n-1)\n",
        "\n",
        "print(factorial(5))\n"
      ]
    },
    {
      "cell_type": "markdown",
      "metadata": {
        "id": "FiEPmvX7bHKD"
      },
      "source": [
        "Buat fungsi untuk menghitung total bilangan dalam sebuah list."
      ]
    },
    {
      "cell_type": "code",
      "execution_count": null,
      "metadata": {
        "colab": {
          "base_uri": "https://localhost:8080/"
        },
        "id": "4wVkQOXgShXp",
        "outputId": "6bd95f98-9bae-43d1-9450-baab6f44d492"
      },
      "outputs": [
        {
          "name": "stdout",
          "output_type": "stream",
          "text": [
            "15\n"
          ]
        }
      ],
      "source": [
        "def sum_list(numbers):\n",
        "    return sum(numbers)\n",
        "\n",
        "print(sum_list([1, 2, 3, 4, 5]))\n"
      ]
    },
    {
      "cell_type": "markdown",
      "metadata": {
        "id": "MMzoj0GdbZ_J"
      },
      "source": [
        "Buat program yang membuat list dari 5 nama."
      ]
    },
    {
      "cell_type": "code",
      "execution_count": null,
      "metadata": {
        "id": "1xQPkhQvbUkk"
      },
      "outputs": [],
      "source": [
        "names = [\"Alice\", \"Bob\", \"Charlie\", \"David\", \"Eve\"]"
      ]
    },
    {
      "cell_type": "markdown",
      "metadata": {
        "id": "e8x4zDU7bv-a"
      },
      "source": [
        "Buat program untuk mengakses elemen pertama dan terakhir dari sebuah list."
      ]
    },
    {
      "cell_type": "code",
      "execution_count": null,
      "metadata": {
        "colab": {
          "base_uri": "https://localhost:8080/"
        },
        "id": "oNx8ecggbwYS",
        "outputId": "22d82dcb-d44e-47b1-ebf2-cbe324dec4ec"
      },
      "outputs": [
        {
          "name": "stdout",
          "output_type": "stream",
          "text": [
            "Alice\n",
            "Eve\n"
          ]
        }
      ],
      "source": [
        "print(names[0])\n",
        "print(names[-1])\n"
      ]
    },
    {
      "cell_type": "markdown",
      "metadata": {
        "id": "X_Krt2Ydb8Pq"
      },
      "source": [
        "Buat program untuk menambahkan elemen baru ke list."
      ]
    },
    {
      "cell_type": "code",
      "execution_count": null,
      "metadata": {
        "colab": {
          "base_uri": "https://localhost:8080/"
        },
        "id": "y6GffkMxb4Hr",
        "outputId": "9259db8b-fe7a-4efa-aa49-be6b0fe918c7"
      },
      "outputs": [
        {
          "name": "stdout",
          "output_type": "stream",
          "text": [
            "['Alice', 'Bob', 'Charlie', 'David', 'Eve', 'Frank']\n"
          ]
        }
      ],
      "source": [
        "names.append(\"Frank\")\n",
        "print(names)"
      ]
    },
    {
      "cell_type": "markdown",
      "metadata": {
        "id": "bcmKg3uhcBGb"
      },
      "source": [
        "Buat program untuk menghapus elemen tertentu dari list."
      ]
    },
    {
      "cell_type": "code",
      "execution_count": null,
      "metadata": {
        "colab": {
          "base_uri": "https://localhost:8080/"
        },
        "id": "9E43ye4eb-i7",
        "outputId": "5462954c-aba9-4f70-bc46-7b1f085d4cdb"
      },
      "outputs": [
        {
          "name": "stdout",
          "output_type": "stream",
          "text": [
            "['Alice', 'Bob', 'David', 'Eve', 'Frank']\n"
          ]
        }
      ],
      "source": [
        "names.remove(\"Charlie\")\n",
        "print(names)"
      ]
    },
    {
      "cell_type": "markdown",
      "metadata": {
        "id": "S1GEP5N5cHR6"
      },
      "source": [
        "Buat program yang menghitung jumlah elemen dalam list."
      ]
    },
    {
      "cell_type": "code",
      "execution_count": null,
      "metadata": {
        "colab": {
          "base_uri": "https://localhost:8080/"
        },
        "id": "pNMtQKFycEjt",
        "outputId": "739327b6-73e1-48b1-9d89-df4c6b5331a7"
      },
      "outputs": [
        {
          "name": "stdout",
          "output_type": "stream",
          "text": [
            "5\n"
          ]
        }
      ],
      "source": [
        "print(len(names))"
      ]
    },
    {
      "cell_type": "markdown",
      "metadata": {
        "id": "K2R-g3R9cLnq"
      },
      "source": [
        "Buat program yang mengurutkan list angka secara ascending."
      ]
    },
    {
      "cell_type": "code",
      "execution_count": null,
      "metadata": {
        "colab": {
          "base_uri": "https://localhost:8080/"
        },
        "id": "DxZzwhxDcJT7",
        "outputId": "e12b91d3-e0d2-42d2-9057-05e186965364"
      },
      "outputs": [
        {
          "name": "stdout",
          "output_type": "stream",
          "text": [
            "[1, 1, 3, 4, 5]\n"
          ]
        }
      ],
      "source": [
        "numbers = [3, 1, 4, 1, 5]\n",
        "numbers.sort()\n",
        "print(numbers)"
      ]
    },
    {
      "cell_type": "markdown",
      "metadata": {
        "id": "65Ml2r4DcPxj"
      },
      "source": [
        "Buat program untuk membuat tuple yang berisi 5 bilangan."
      ]
    },
    {
      "cell_type": "code",
      "execution_count": null,
      "metadata": {
        "id": "p7KqvkrpcN-K"
      },
      "outputs": [],
      "source": [
        "numbers_tuple = (1, 2, 3, 4, 5)"
      ]
    },
    {
      "cell_type": "markdown",
      "metadata": {
        "id": "lZi6XlQicX-x"
      },
      "source": [
        "Buat program untuk memeriksa apakah elemen ada dalam tuple."
      ]
    },
    {
      "cell_type": "code",
      "execution_count": null,
      "metadata": {
        "colab": {
          "base_uri": "https://localhost:8080/"
        },
        "id": "9w9fyUK8cStl",
        "outputId": "ed31ee98-caed-4adb-dd5e-1cc0ba58ae7c"
      },
      "outputs": [
        {
          "name": "stdout",
          "output_type": "stream",
          "text": [
            "True\n"
          ]
        }
      ],
      "source": [
        "print(3 in numbers_tuple)  # Output: True"
      ]
    },
    {
      "cell_type": "markdown",
      "metadata": {
        "id": "p-2rN79DceM8"
      },
      "source": [
        "Buat dictionary untuk menyimpan nama dan nilai siswa."
      ]
    },
    {
      "cell_type": "code",
      "execution_count": null,
      "metadata": {
        "id": "flNiuhaAc0cC"
      },
      "outputs": [],
      "source": [
        "students = {\"Alice\": 85, \"Bob\": 90, \"Charlie\": 78}"
      ]
    },
    {
      "cell_type": "markdown",
      "metadata": {
        "id": "hF2_6K6rceKL"
      },
      "source": [
        "Buat program untuk menampilkan nilai seorang siswa dari dictionary."
      ]
    },
    {
      "cell_type": "code",
      "execution_count": null,
      "metadata": {
        "colab": {
          "base_uri": "https://localhost:8080/"
        },
        "id": "c-DTeBbTc2QB",
        "outputId": "3ad3a2a4-678b-4ca5-ec75-adb15aa2f5d8"
      },
      "outputs": [
        {
          "name": "stdout",
          "output_type": "stream",
          "text": [
            "85\n"
          ]
        }
      ],
      "source": [
        "print(students[\"Alice\"])"
      ]
    },
    {
      "cell_type": "markdown",
      "metadata": {
        "id": "0EQm2fAgceHJ"
      },
      "source": [
        "Buat program untuk menambahkan siswa baru ke dictionary."
      ]
    },
    {
      "cell_type": "code",
      "execution_count": null,
      "metadata": {
        "colab": {
          "base_uri": "https://localhost:8080/"
        },
        "id": "dDeNee4wc5N6",
        "outputId": "d4580074-a30e-4d75-f647-a5fbdb50ee3c"
      },
      "outputs": [
        {
          "name": "stdout",
          "output_type": "stream",
          "text": [
            "{'Alice': 85, 'Bob': 90, 'Charlie': 78, 'David': 88}\n"
          ]
        }
      ],
      "source": [
        "students[\"David\"] = 88\n",
        "print(students)"
      ]
    },
    {
      "cell_type": "markdown",
      "metadata": {
        "id": "NXw-qUkdceEa"
      },
      "source": [
        "Buat program yang menghapus entri dari dictionary berdasarkan nama siswa."
      ]
    },
    {
      "cell_type": "code",
      "execution_count": null,
      "metadata": {
        "colab": {
          "base_uri": "https://localhost:8080/"
        },
        "id": "NzXRIi95c6kq",
        "outputId": "d4d77dd8-137c-4a64-ecaf-2708d76afb77"
      },
      "outputs": [
        {
          "name": "stdout",
          "output_type": "stream",
          "text": [
            "{'Alice': 85, 'Charlie': 78, 'David': 88}\n"
          ]
        }
      ],
      "source": [
        "del students[\"Bob\"]\n",
        "print(students)"
      ]
    },
    {
      "cell_type": "markdown",
      "metadata": {
        "id": "6OplGPE9ceBS"
      },
      "source": [
        "Buat program untuk mengupdate nilai siswa dalam dictionary."
      ]
    },
    {
      "cell_type": "code",
      "execution_count": null,
      "metadata": {
        "colab": {
          "base_uri": "https://localhost:8080/"
        },
        "id": "hfXerARvc9M0",
        "outputId": "05f3b9b7-3610-44b0-a2d2-0e746afdac4b"
      },
      "outputs": [
        {
          "name": "stdout",
          "output_type": "stream",
          "text": [
            "{'Alice': 95, 'Charlie': 78, 'David': 88}\n"
          ]
        }
      ],
      "source": [
        "students[\"Alice\"] = 95\n",
        "print(students)"
      ]
    },
    {
      "cell_type": "markdown",
      "metadata": {
        "id": "HAbX84Nkcd7J"
      },
      "source": [
        "Buat program yang menampilkan semua nama siswa dari dictionary."
      ]
    },
    {
      "cell_type": "code",
      "execution_count": null,
      "metadata": {
        "colab": {
          "base_uri": "https://localhost:8080/"
        },
        "id": "Dj8-lRJPc__x",
        "outputId": "1f0f122b-5aca-4a87-d0ff-bfd72a1b0546"
      },
      "outputs": [
        {
          "name": "stdout",
          "output_type": "stream",
          "text": [
            "dict_keys(['Alice', 'Charlie', 'David'])\n"
          ]
        }
      ],
      "source": [
        "print(students.keys())"
      ]
    },
    {
      "cell_type": "markdown",
      "metadata": {
        "id": "2a94JjoBcdyR"
      },
      "source": [
        "Buat program yang menampilkan semua nilai siswa dari dictionary."
      ]
    },
    {
      "cell_type": "code",
      "execution_count": null,
      "metadata": {
        "colab": {
          "base_uri": "https://localhost:8080/"
        },
        "id": "_ysnSlszdDCd",
        "outputId": "cfbc1cee-40f2-42be-af30-6656f6a9f717"
      },
      "outputs": [
        {
          "name": "stdout",
          "output_type": "stream",
          "text": [
            "dict_values([95, 78, 88])\n"
          ]
        }
      ],
      "source": [
        "print(students.values())"
      ]
    },
    {
      "cell_type": "markdown",
      "metadata": {
        "id": "qGEyE2iYcdqh"
      },
      "source": [
        "Buat program untuk mengubah nilai menjadi list dari sebuah dictionary."
      ]
    },
    {
      "cell_type": "code",
      "execution_count": null,
      "metadata": {
        "colab": {
          "base_uri": "https://localhost:8080/"
        },
        "id": "6avcwwxZcx4p",
        "outputId": "6572b696-c087-4394-fbce-9bd3de9cd630"
      },
      "outputs": [
        {
          "name": "stdout",
          "output_type": "stream",
          "text": [
            "[95, 78, 88]\n"
          ]
        }
      ],
      "source": [
        "scores_list = list(students.values())\n",
        "print(scores_list)"
      ]
    },
    {
      "cell_type": "markdown",
      "metadata": {
        "id": "K8UIjAnKdOj8"
      },
      "source": [
        "Buat program untuk membuat set yang berisi angka-angka unik."
      ]
    },
    {
      "cell_type": "code",
      "execution_count": 8,
      "metadata": {
        "id": "qNql70Hoe0Ti"
      },
      "outputs": [],
      "source": [
        "unique_numbers = {1, 2, 3, 4, 5}"
      ]
    },
    {
      "cell_type": "markdown",
      "metadata": {
        "id": "ULmytqT8dOfS"
      },
      "source": [
        "Buat program yang menambahkan elemen baru ke dalam set."
      ]
    },
    {
      "cell_type": "code",
      "execution_count": null,
      "metadata": {
        "colab": {
          "base_uri": "https://localhost:8080/"
        },
        "id": "Zy6AFL2Me0uh",
        "outputId": "07d7faa3-bd0b-4579-ffd8-6bd2ca78b0c1"
      },
      "outputs": [
        {
          "name": "stdout",
          "output_type": "stream",
          "text": [
            "{1, 2, 3, 4, 5, 6}\n"
          ]
        }
      ],
      "source": [
        "unique_numbers.add(6)\n",
        "print(unique_numbers)"
      ]
    },
    {
      "cell_type": "markdown",
      "metadata": {
        "id": "tkAF7N5LdObZ"
      },
      "source": [
        "Buat program yang menghapus elemen dari set."
      ]
    },
    {
      "cell_type": "code",
      "execution_count": null,
      "metadata": {
        "colab": {
          "base_uri": "https://localhost:8080/"
        },
        "id": "L25YBAKae1NK",
        "outputId": "273420ae-6463-4511-c9bc-70ff5c6ac887"
      },
      "outputs": [
        {
          "name": "stdout",
          "output_type": "stream",
          "text": [
            "{1, 2, 4, 5, 6}\n"
          ]
        }
      ],
      "source": [
        "unique_numbers.remove(3)\n",
        "print(unique_numbers)"
      ]
    },
    {
      "cell_type": "markdown",
      "metadata": {
        "id": "lk1zA2nQdOX-"
      },
      "source": [
        "Buat program yang menampilkan irisan dari dua set."
      ]
    },
    {
      "cell_type": "code",
      "execution_count": null,
      "metadata": {
        "colab": {
          "base_uri": "https://localhost:8080/"
        },
        "id": "rjNMKujse1tK",
        "outputId": "83f65737-9e9a-49f5-943e-bdacb0406d36"
      },
      "outputs": [
        {
          "name": "stdout",
          "output_type": "stream",
          "text": [
            "{2, 3}\n"
          ]
        }
      ],
      "source": [
        "set1 = {1, 2, 3}\n",
        "set2 = {2, 3, 4}\n",
        "print(set1.intersection(set2))"
      ]
    },
    {
      "cell_type": "markdown",
      "metadata": {
        "id": "UdaVXXpMdOUp"
      },
      "source": [
        "Buat program yang menampilkan gabungan dari dua set."
      ]
    },
    {
      "cell_type": "code",
      "execution_count": null,
      "metadata": {
        "colab": {
          "base_uri": "https://localhost:8080/"
        },
        "id": "id2sPO_-e2F6",
        "outputId": "9c56826e-f46b-4ad2-bd97-ebab4a8b1db4"
      },
      "outputs": [
        {
          "name": "stdout",
          "output_type": "stream",
          "text": [
            "{1, 2, 3, 4}\n"
          ]
        }
      ],
      "source": [
        "print(set1.union(set2))"
      ]
    },
    {
      "cell_type": "markdown",
      "metadata": {
        "id": "3EYpj2kIdORW"
      },
      "source": [
        "Buat program yang mengecek apakah satu set merupakan subset dari set lain."
      ]
    },
    {
      "cell_type": "code",
      "execution_count": null,
      "metadata": {
        "colab": {
          "base_uri": "https://localhost:8080/"
        },
        "id": "R3ACGi6Ue2ZI",
        "outputId": "a814dd06-bc56-4ffc-b857-a890bdd633bd"
      },
      "outputs": [
        {
          "name": "stdout",
          "output_type": "stream",
          "text": [
            "False\n"
          ]
        }
      ],
      "source": [
        "print(set1.issubset(set2))"
      ]
    },
    {
      "cell_type": "markdown",
      "metadata": {
        "id": "lRHx_y00dOOH"
      },
      "source": [
        "Buat program yang menampilkan perbedaan dari dua set."
      ]
    },
    {
      "cell_type": "code",
      "execution_count": null,
      "metadata": {
        "colab": {
          "base_uri": "https://localhost:8080/"
        },
        "id": "JdZyemqQe2sp",
        "outputId": "14f888fb-61f9-4702-f571-ce8a667bc43a"
      },
      "outputs": [
        {
          "name": "stdout",
          "output_type": "stream",
          "text": [
            "{1}\n"
          ]
        }
      ],
      "source": [
        "print(set1.difference(set2))"
      ]
    },
    {
      "cell_type": "markdown",
      "metadata": {
        "id": "L3svz1SxdOLB"
      },
      "source": [
        "Buat program untuk menghitung elemen unik dalam sebuah list menggunakan set."
      ]
    },
    {
      "cell_type": "code",
      "execution_count": null,
      "metadata": {
        "colab": {
          "base_uri": "https://localhost:8080/"
        },
        "id": "_RZo1eaudeES",
        "outputId": "dd4a8e61-1448-412e-92d5-6625eaf9b2cd"
      },
      "outputs": [
        {
          "name": "stdout",
          "output_type": "stream",
          "text": [
            "5\n"
          ]
        }
      ],
      "source": [
        "numbers = [1, 2, 2, 3, 4, 4, 4, 5]\n",
        "unique_numbers = set(numbers)\n",
        "print(len(unique_numbers))"
      ]
    },
    {
      "cell_type": "markdown",
      "metadata": {
        "id": "3Znb2eUIfQz5"
      },
      "source": [
        "Buat program yang membuat dan menulis teks ke dalam file."
      ]
    },
    {
      "cell_type": "code",
      "execution_count": 9,
      "metadata": {
        "id": "tF-utmIffgTz"
      },
      "outputs": [],
      "source": [
        "with open(\"example.txt\", \"w\") as file:\n",
        "    file.write(\"Hello, world!\")"
      ]
    },
    {
      "cell_type": "markdown",
      "metadata": {
        "id": "ZsleJIDjfQwu"
      },
      "source": [
        "Buat program yang membaca isi dari file teks."
      ]
    },
    {
      "cell_type": "code",
      "execution_count": null,
      "metadata": {
        "colab": {
          "base_uri": "https://localhost:8080/"
        },
        "id": "ExUsydIWfg5I",
        "outputId": "d4da7f67-c211-4b81-c746-085b9d2480a2"
      },
      "outputs": [
        {
          "name": "stdout",
          "output_type": "stream",
          "text": [
            "Hello, world!\n"
          ]
        }
      ],
      "source": [
        "with open(\"example.txt\", \"r\") as file:\n",
        "    content = file.read()\n",
        "    print(content)"
      ]
    },
    {
      "cell_type": "markdown",
      "metadata": {
        "id": "aNlitQl-fQtv"
      },
      "source": [
        "Buat program untuk menambahkan teks baru ke file yang sudah ada."
      ]
    },
    {
      "cell_type": "code",
      "execution_count": null,
      "metadata": {
        "id": "n9vrIMJpfhhQ"
      },
      "outputs": [],
      "source": [
        "with open(\"example.txt\", \"a\") as file:\n",
        "    file.write(\"\\nNew line added.\")"
      ]
    },
    {
      "cell_type": "markdown",
      "metadata": {
        "id": "TXCTsl1xfQqo"
      },
      "source": [
        "Buat program yang menampilkan isi file baris per baris."
      ]
    },
    {
      "cell_type": "code",
      "execution_count": null,
      "metadata": {
        "colab": {
          "base_uri": "https://localhost:8080/"
        },
        "id": "uhW9XyFtfh2R",
        "outputId": "5fb8c685-6156-4a29-fd43-4ab575ad6009"
      },
      "outputs": [
        {
          "name": "stdout",
          "output_type": "stream",
          "text": [
            "Hello, world!\n",
            "New line added."
          ]
        }
      ],
      "source": [
        "with open(\"example.txt\", \"r\") as file:\n",
        "    for line in file:\n",
        "        print(line, end=\"\")"
      ]
    },
    {
      "cell_type": "markdown",
      "metadata": {
        "id": "_bVnNtDSfQnd"
      },
      "source": [
        "Buat program yang menghitung jumlah kata dalam sebuah file."
      ]
    },
    {
      "cell_type": "code",
      "execution_count": null,
      "metadata": {
        "colab": {
          "base_uri": "https://localhost:8080/"
        },
        "id": "xnBg7RuTfiKr",
        "outputId": "e8000986-aeac-4320-8653-d93c312b6b9d"
      },
      "outputs": [
        {
          "name": "stdout",
          "output_type": "stream",
          "text": [
            "5\n"
          ]
        }
      ],
      "source": [
        "with open(\"example.txt\", \"r\") as file:\n",
        "    content = file.read()\n",
        "    word_count = len(content.split())\n",
        "    print(word_count)"
      ]
    },
    {
      "cell_type": "markdown",
      "metadata": {
        "id": "-Vsu2i47fQkL"
      },
      "source": [
        "Buat program untuk menghapus file."
      ]
    },
    {
      "cell_type": "code",
      "execution_count": null,
      "metadata": {
        "id": "71Ixw_bzfip5"
      },
      "outputs": [],
      "source": [
        "import os\n",
        "os.remove(\"example.txt\")"
      ]
    },
    {
      "cell_type": "markdown",
      "metadata": {
        "id": "yliAJU-BfQg4"
      },
      "source": [
        "Buat program yang memeriksa apakah sebuah file ada atau tidak."
      ]
    },
    {
      "cell_type": "code",
      "execution_count": null,
      "metadata": {
        "colab": {
          "base_uri": "https://localhost:8080/"
        },
        "id": "GDE_KYbrfjD5",
        "outputId": "10b53e18-4134-4a19-b985-17299b2ee31b"
      },
      "outputs": [
        {
          "name": "stdout",
          "output_type": "stream",
          "text": [
            "File does not exist\n"
          ]
        }
      ],
      "source": [
        "if os.path.exists(\"example.txt\"):\n",
        "    print(\"File exists\")\n",
        "else:\n",
        "    print(\"File does not exist\")\n"
      ]
    },
    {
      "cell_type": "markdown",
      "metadata": {
        "id": "PzqfW12tfQbZ"
      },
      "source": [
        "Buat program yang meng-copy isi file ke file lain."
      ]
    },
    {
      "cell_type": "code",
      "execution_count": null,
      "metadata": {
        "id": "v1GZVU97fjp7"
      },
      "outputs": [],
      "source": [
        "with open(\"example.txt\", \"w\") as file:\n",
        "    file.write(\"Hello, world!\")\n",
        "\n",
        "with open(\"example.txt\", \"r\") as src:\n",
        "    with open(\"copy.txt\", \"w\") as dst:\n",
        "        dst.write(src.read())"
      ]
    },
    {
      "cell_type": "markdown",
      "metadata": {
        "id": "-VgNLKSTf-W6"
      },
      "source": [
        "Buat program untuk membuat list dari angka 1 sampai 10 menggunakan list comprehension."
      ]
    },
    {
      "cell_type": "code",
      "execution_count": null,
      "metadata": {
        "colab": {
          "base_uri": "https://localhost:8080/"
        },
        "id": "jY0EcPqagLR-",
        "outputId": "456e343a-f80c-42af-b47e-8774064a2fc2"
      },
      "outputs": [
        {
          "name": "stdout",
          "output_type": "stream",
          "text": [
            "[1, 2, 3, 4, 5, 6, 7, 8, 9, 10]\n"
          ]
        }
      ],
      "source": [
        "numbers = [x for x in range(1, 11)]\n",
        "print(numbers)"
      ]
    },
    {
      "cell_type": "markdown",
      "metadata": {
        "id": "IAtbkglhf-Rg"
      },
      "source": [
        "Buat program untuk membuat list bilangan genap dari 1 sampai 20."
      ]
    },
    {
      "cell_type": "code",
      "execution_count": null,
      "metadata": {
        "colab": {
          "base_uri": "https://localhost:8080/"
        },
        "id": "qdv2zNkFgL26",
        "outputId": "0a3af92b-0dad-4c2d-ea3a-6b8ee6e5432c"
      },
      "outputs": [
        {
          "name": "stdout",
          "output_type": "stream",
          "text": [
            "[2, 4, 6, 8, 10, 12, 14, 16, 18, 20]\n"
          ]
        }
      ],
      "source": [
        "evens = [x for x in range(1, 21) if x % 2 == 0]\n",
        "print(evens)"
      ]
    },
    {
      "cell_type": "markdown",
      "metadata": {
        "id": "wPl61K2ff-Mh"
      },
      "source": [
        "Buat program untuk membuat list bilangan kuadrat dari 1 sampai 10."
      ]
    },
    {
      "cell_type": "code",
      "execution_count": null,
      "metadata": {
        "colab": {
          "base_uri": "https://localhost:8080/"
        },
        "id": "6iaJK2wPgMNh",
        "outputId": "e09bb027-bc9a-4265-9692-4b33ae99d94d"
      },
      "outputs": [
        {
          "name": "stdout",
          "output_type": "stream",
          "text": [
            "[1, 4, 9, 16, 25, 36, 49, 64, 81, 100]\n"
          ]
        }
      ],
      "source": [
        "squares = [x**2 for x in range(1, 11)]\n",
        "print(squares)"
      ]
    },
    {
      "cell_type": "markdown",
      "metadata": {
        "id": "CEEdTaQdf-JJ"
      },
      "source": [
        "Buat program untuk mengubah setiap elemen dalam list menjadi huruf besar."
      ]
    },
    {
      "cell_type": "code",
      "execution_count": null,
      "metadata": {
        "colab": {
          "base_uri": "https://localhost:8080/"
        },
        "id": "c2prHRu3gM5Z",
        "outputId": "d3f7e435-0a2c-42cc-c984-20813dbf056f"
      },
      "outputs": [
        {
          "name": "stdout",
          "output_type": "stream",
          "text": [
            "['HELLO', 'WORLD']\n"
          ]
        }
      ],
      "source": [
        "words = [\"hello\", \"world\"]\n",
        "upper_words = [word.upper() for word in words]\n",
        "print(upper_words)"
      ]
    },
    {
      "cell_type": "markdown",
      "metadata": {
        "id": "BuQxdvf9f-FD"
      },
      "source": [
        "Buat program yang menyaring elemen dalam list jika lebih besar dari 5."
      ]
    },
    {
      "cell_type": "code",
      "execution_count": null,
      "metadata": {
        "colab": {
          "base_uri": "https://localhost:8080/"
        },
        "id": "C4H0c0ixgNNc",
        "outputId": "512fcc1b-f4bc-457a-9efb-874a71ce276a"
      },
      "outputs": [
        {
          "name": "stdout",
          "output_type": "stream",
          "text": [
            "[6, 7, 8]\n"
          ]
        }
      ],
      "source": [
        "numbers = [1, 2, 3, 6, 7, 8]\n",
        "filtered = [x for x in numbers if x > 5]\n",
        "print(filtered)"
      ]
    },
    {
      "cell_type": "markdown",
      "metadata": {
        "id": "sICX4f6Jf-Bw"
      },
      "source": [
        "Buat program untuk membuat list huruf vokal dari string."
      ]
    },
    {
      "cell_type": "code",
      "execution_count": null,
      "metadata": {
        "colab": {
          "base_uri": "https://localhost:8080/"
        },
        "id": "hTSmT0dHgccC",
        "outputId": "82364e60-900b-4beb-bbec-b758ba3060aa"
      },
      "outputs": [
        {
          "name": "stdout",
          "output_type": "stream",
          "text": [
            "['e', 'o', 'o']\n"
          ]
        }
      ],
      "source": [
        "string = \"hello world\"\n",
        "vowels = [char for char in string if char in 'aeiou']\n",
        "print(vowels)"
      ]
    },
    {
      "cell_type": "markdown",
      "metadata": {
        "id": "yEzMvGXOgfbh"
      },
      "source": [
        "Buat program yang menangkap kesalahan pembagian dengan nol."
      ]
    },
    {
      "cell_type": "markdown",
      "metadata": {
        "id": "EP1c3k00r2nv"
      },
      "source": [
        "# Exception"
      ]
    },
    {
      "cell_type": "code",
      "execution_count": null,
      "metadata": {
        "colab": {
          "base_uri": "https://localhost:8080/",
          "height": 158
        },
        "id": "Agzf38tBsAeS",
        "outputId": "4ae32f14-5f98-4397-eaff-bb2e38b76ccb"
      },
      "outputs": [
        {
          "ename": "ZeroDivisionError",
          "evalue": "division by zero",
          "output_type": "error",
          "traceback": [
            "\u001b[0;31m---------------------------------------------------------------------------\u001b[0m",
            "\u001b[0;31mZeroDivisionError\u001b[0m                         Traceback (most recent call last)",
            "\u001b[0;32m<ipython-input-3-7f977f09f2a0>\u001b[0m in \u001b[0;36m<cell line: 1>\u001b[0;34m()\u001b[0m\n\u001b[0;32m----> 1\u001b[0;31m \u001b[0mresult\u001b[0m \u001b[0;34m=\u001b[0m \u001b[0;36m10\u001b[0m\u001b[0;34m/\u001b[0m\u001b[0;36m0\u001b[0m\u001b[0;34m\u001b[0m\u001b[0;34m\u001b[0m\u001b[0m\n\u001b[0m\u001b[1;32m      2\u001b[0m \u001b[0mprint\u001b[0m\u001b[0;34m(\u001b[0m\u001b[0mresult\u001b[0m\u001b[0;34m)\u001b[0m\u001b[0;34m\u001b[0m\u001b[0;34m\u001b[0m\u001b[0m\n",
            "\u001b[0;31mZeroDivisionError\u001b[0m: division by zero"
          ]
        }
      ],
      "source": [
        "result = 10/0\n",
        "print(result)"
      ]
    },
    {
      "cell_type": "code",
      "execution_count": null,
      "metadata": {
        "colab": {
          "base_uri": "https://localhost:8080/"
        },
        "id": "3bB-hQH7gpcR",
        "outputId": "7c1328a7-85a6-42f4-a70c-a2610baf87e0"
      },
      "outputs": [
        {
          "name": "stdout",
          "output_type": "stream",
          "text": [
            "Division by zero is not allowed\n"
          ]
        }
      ],
      "source": [
        "try:\n",
        "    result = 10 / 0\n",
        "except ZeroDivisionError:\n",
        "    print(\"Division by zero is not allowed\")"
      ]
    },
    {
      "cell_type": "markdown",
      "metadata": {
        "id": "AeKQn-fggfYW"
      },
      "source": [
        "Buat program yang menangkap kesalahan input yang bukan angka."
      ]
    },
    {
      "cell_type": "code",
      "execution_count": null,
      "metadata": {
        "colab": {
          "base_uri": "https://localhost:8080/",
          "height": 158
        },
        "id": "jooIthWos_2o",
        "outputId": "d1359e8f-cb86-4159-ee2e-d28a75be5bcd"
      },
      "outputs": [
        {
          "ename": "ValueError",
          "evalue": "invalid literal for int() with base 10: 'ini angka'",
          "output_type": "error",
          "traceback": [
            "\u001b[0;31m---------------------------------------------------------------------------\u001b[0m",
            "\u001b[0;31mValueError\u001b[0m                                Traceback (most recent call last)",
            "\u001b[0;32m<ipython-input-6-b53fae516f87>\u001b[0m in \u001b[0;36m<cell line: 2>\u001b[0;34m()\u001b[0m\n\u001b[1;32m      1\u001b[0m \u001b[0mangka\u001b[0m \u001b[0;34m=\u001b[0m \u001b[0;34m'ini angka'\u001b[0m\u001b[0;34m\u001b[0m\u001b[0;34m\u001b[0m\u001b[0m\n\u001b[0;32m----> 2\u001b[0;31m \u001b[0mprint\u001b[0m\u001b[0;34m(\u001b[0m\u001b[0mint\u001b[0m\u001b[0;34m(\u001b[0m\u001b[0mangka\u001b[0m\u001b[0;34m)\u001b[0m\u001b[0;34m)\u001b[0m\u001b[0;34m\u001b[0m\u001b[0;34m\u001b[0m\u001b[0m\n\u001b[0m",
            "\u001b[0;31mValueError\u001b[0m: invalid literal for int() with base 10: 'ini angka'"
          ]
        }
      ],
      "source": [
        "angka = 'ini angka'\n",
        "print(int(angka))"
      ]
    },
    {
      "cell_type": "code",
      "execution_count": null,
      "metadata": {
        "colab": {
          "base_uri": "https://localhost:8080/"
        },
        "id": "lxX4BnccsoVb",
        "outputId": "6ec15bf2-3623-430a-de5f-e2c8acd83aa5"
      },
      "outputs": [
        {
          "name": "stdout",
          "output_type": "stream",
          "text": [
            "\n"
          ]
        }
      ],
      "source": [
        "angka = 'ini angka'\n",
        "try:\n",
        "  angka = int(angka)\n",
        "except ValueError:\n",
        "  print(\"\")"
      ]
    },
    {
      "cell_type": "code",
      "execution_count": null,
      "metadata": {
        "colab": {
          "base_uri": "https://localhost:8080/"
        },
        "id": "xayNq4ERgp5g",
        "outputId": "63d3c3a5-df15-4078-c01a-25cc481407bb"
      },
      "outputs": [
        {
          "name": "stdout",
          "output_type": "stream",
          "text": [
            "Enter a number: a\n",
            "Input is not a valid number\n"
          ]
        }
      ],
      "source": [
        "try:\n",
        "    number = int(input(\"Enter a number: \"))\n",
        "except ValueError:\n",
        "    print(\"Input is not a valid number\")"
      ]
    },
    {
      "cell_type": "markdown",
      "metadata": {
        "id": "lOe_2DqAgfVq"
      },
      "source": [
        "Buat program yang menangkap kesalahan akses elemen list di luar indeks."
      ]
    },
    {
      "cell_type": "code",
      "execution_count": null,
      "metadata": {
        "colab": {
          "base_uri": "https://localhost:8080/"
        },
        "id": "jMbR41adgqNY",
        "outputId": "4971453b-35a4-4b1a-aef0-3d5f1aa9f7f2"
      },
      "outputs": [
        {
          "name": "stdout",
          "output_type": "stream",
          "text": [
            "Index out of range\n"
          ]
        }
      ],
      "source": [
        "my_list = [1, 2, 3]\n",
        "try:\n",
        "    print(my_list[5])\n",
        "except IndexError:\n",
        "    print(\"Index out of range\")"
      ]
    },
    {
      "cell_type": "markdown",
      "metadata": {
        "id": "VfuzfEeVgfTB"
      },
      "source": [
        "Buat program yang menangani beberapa tipe kesalahan dengan exception yang berbeda."
      ]
    },
    {
      "cell_type": "code",
      "execution_count": null,
      "metadata": {
        "colab": {
          "base_uri": "https://localhost:8080/"
        },
        "id": "X3-1RUNCgqno",
        "outputId": "58c5dd88-da4a-498b-92c4-a1cfa831273d"
      },
      "outputs": [
        {
          "name": "stdout",
          "output_type": "stream",
          "text": [
            "Enter a number: a\n",
            "Input is not a valid number\n"
          ]
        }
      ],
      "source": [
        "try:\n",
        "    result = 10 / int(input(\"Enter a number: \"))\n",
        "except ValueError:\n",
        "    print(\"Input is not a valid number\")\n",
        "except ZeroDivisionError:\n",
        "    print(\"Cannot divide by zero\")"
      ]
    },
    {
      "cell_type": "markdown",
      "metadata": {
        "id": "IMPPy679gfQf"
      },
      "source": [
        "Buat program yang menggunakan `finally` untuk menampilkan pesan setelah exception."
      ]
    },
    {
      "cell_type": "code",
      "execution_count": null,
      "metadata": {
        "colab": {
          "base_uri": "https://localhost:8080/"
        },
        "id": "QXXOCH4HgrAy",
        "outputId": "5cf36173-fbb3-4155-b57e-4ea20485354b"
      },
      "outputs": [
        {
          "name": "stdout",
          "output_type": "stream",
          "text": [
            "Division by zero is not allowed\n",
            "This will execute regardless of an exception\n"
          ]
        }
      ],
      "source": [
        "try:\n",
        "    result = 10 / 0\n",
        "except ZeroDivisionError:\n",
        "    print(\"Division by zero is not allowed\")\n",
        "finally:\n",
        "    print(\"This will execute regardless of an exception\")"
      ]
    },
    {
      "cell_type": "markdown",
      "metadata": {
        "id": "CmgpFO25hBUR"
      },
      "source": [
        "Buat class `Mahasiswa` yang memiliki atribut nama dan umur."
      ]
    },
    {
      "cell_type": "code",
      "execution_count": null,
      "metadata": {
        "id": "-eadpT4buYCH"
      },
      "outputs": [],
      "source": [
        "from sklearn.linear_model import LinearRegression"
      ]
    },
    {
      "cell_type": "code",
      "execution_count": null,
      "metadata": {
        "colab": {
          "base_uri": "https://localhost:8080/",
          "height": 263
        },
        "id": "0RRtzJxPudx3",
        "outputId": "71790bc4-f68d-46f4-9538-f6e647ee2297"
      },
      "outputs": [
        {
          "ename": "TypeError",
          "evalue": "LinearRegression.fit() missing 2 required positional arguments: 'X' and 'y'",
          "output_type": "error",
          "traceback": [
            "\u001b[0;31m---------------------------------------------------------------------------\u001b[0m",
            "\u001b[0;31mTypeError\u001b[0m                                 Traceback (most recent call last)",
            "\u001b[0;32m<ipython-input-11-0c6fdb41f2d4>\u001b[0m in \u001b[0;36m<cell line: 1>\u001b[0;34m()\u001b[0m\n\u001b[0;32m----> 1\u001b[0;31m \u001b[0mLinearRegression\u001b[0m\u001b[0;34m(\u001b[0m\u001b[0;34m)\u001b[0m\u001b[0;34m.\u001b[0m\u001b[0mfit\u001b[0m\u001b[0;34m(\u001b[0m\u001b[0;34m)\u001b[0m\u001b[0;34m\u001b[0m\u001b[0;34m\u001b[0m\u001b[0m\n\u001b[0m",
            "\u001b[0;32m/usr/local/lib/python3.10/dist-packages/sklearn/base.py\u001b[0m in \u001b[0;36mwrapper\u001b[0;34m(estimator, *args, **kwargs)\u001b[0m\n\u001b[1;32m   1150\u001b[0m                 )\n\u001b[1;32m   1151\u001b[0m             ):\n\u001b[0;32m-> 1152\u001b[0;31m                 \u001b[0;32mreturn\u001b[0m \u001b[0mfit_method\u001b[0m\u001b[0;34m(\u001b[0m\u001b[0mestimator\u001b[0m\u001b[0;34m,\u001b[0m \u001b[0;34m*\u001b[0m\u001b[0margs\u001b[0m\u001b[0;34m,\u001b[0m \u001b[0;34m**\u001b[0m\u001b[0mkwargs\u001b[0m\u001b[0;34m)\u001b[0m\u001b[0;34m\u001b[0m\u001b[0;34m\u001b[0m\u001b[0m\n\u001b[0m\u001b[1;32m   1153\u001b[0m \u001b[0;34m\u001b[0m\u001b[0m\n\u001b[1;32m   1154\u001b[0m         \u001b[0;32mreturn\u001b[0m \u001b[0mwrapper\u001b[0m\u001b[0;34m\u001b[0m\u001b[0;34m\u001b[0m\u001b[0m\n",
            "\u001b[0;31mTypeError\u001b[0m: LinearRegression.fit() missing 2 required positional arguments: 'X' and 'y'"
          ]
        }
      ],
      "source": [
        "LinearRegression().fit()"
      ]
    },
    {
      "cell_type": "code",
      "execution_count": null,
      "metadata": {
        "id": "XJe19y0MhPEA"
      },
      "outputs": [],
      "source": [
        "class Mahasiswa:\n",
        "    def __init__(self, nama, umur):\n",
        "        self.nama = nama\n",
        "        self.umur = umur\n"
      ]
    },
    {
      "cell_type": "markdown",
      "metadata": {
        "id": "iiHfZzDWhA9V"
      },
      "source": [
        "Buat method dalam class untuk menampilkan informasi mahasiswa."
      ]
    },
    {
      "cell_type": "code",
      "execution_count": null,
      "metadata": {
        "id": "Qh9bK8jEhQDY"
      },
      "outputs": [],
      "source": [
        "class Mahasiswa:\n",
        "    def __init__(self, nama, umur, jenis_kelamin):\n",
        "        self.nama = nama\n",
        "        self.u = umur\n",
        "        self.jk = jenis_kelamin\n",
        "\n",
        "    def tampilkan_informasi(self):\n",
        "        print(f\"Nama: {self.nama}, Umur: {self.u}, Jenis Kelamin : {self.jk}\")"
      ]
    },
    {
      "cell_type": "code",
      "execution_count": null,
      "metadata": {
        "colab": {
          "base_uri": "https://localhost:8080/"
        },
        "id": "t9YGoizGvOgD",
        "outputId": "2d6bf6cc-6d77-41be-cdad-9eb502445fef"
      },
      "outputs": [
        {
          "name": "stdout",
          "output_type": "stream",
          "text": [
            "Nama: yanto, Umur: 98, Jenis Kelamin : Laki-laki\n"
          ]
        }
      ],
      "source": [
        "mhs = Mahasiswa('yanto', 98, 'Laki-laki')\n",
        "mhs.tampilkan_informasi() #memanggil fungsi untuk menampilkan informasi"
      ]
    },
    {
      "cell_type": "markdown",
      "metadata": {
        "id": "3itACxDXhA5p"
      },
      "source": [
        "Buat program untuk menginisialisasi objek dari class `Mahasiswa`."
      ]
    },
    {
      "cell_type": "code",
      "execution_count": null,
      "metadata": {
        "colab": {
          "base_uri": "https://localhost:8080/"
        },
        "id": "aG1OEMOehQXi",
        "outputId": "f3417b59-abea-4ec3-f58b-31c16f980f33"
      },
      "outputs": [
        {
          "name": "stdout",
          "output_type": "stream",
          "text": [
            "Nama: Alice, Umur: 20\n"
          ]
        }
      ],
      "source": [
        "mahasiswa1 = Mahasiswa(\"Alice\", 20)\n",
        "mahasiswa1.tampilkan_informasi()"
      ]
    },
    {
      "cell_type": "markdown",
      "metadata": {
        "id": "OcLFMGsEhA2J"
      },
      "source": [
        "Buat program yang menggunakan constructor dalam class."
      ]
    },
    {
      "cell_type": "code",
      "execution_count": null,
      "metadata": {
        "colab": {
          "base_uri": "https://localhost:8080/"
        },
        "id": "JvnmNg2lhQrg",
        "outputId": "f2324628-105a-49cc-f55e-3090ec68649c"
      },
      "outputs": [
        {
          "name": "stdout",
          "output_type": "stream",
          "text": [
            "John\n"
          ]
        }
      ],
      "source": [
        "class Person:\n",
        "    def __init__(self, name):\n",
        "        self.name = name\n",
        "\n",
        "person = Person(\"John\")\n",
        "print(person.name)"
      ]
    },
    {
      "cell_type": "markdown",
      "metadata": {
        "id": "eiV-jsHbhAyn"
      },
      "source": [
        "Buat program yang menggunakan inheritance untuk class `Person` dan `Mahasiswa`."
      ]
    },
    {
      "cell_type": "code",
      "execution_count": null,
      "metadata": {
        "colab": {
          "base_uri": "https://localhost:8080/"
        },
        "id": "OJgupj8whRDI",
        "outputId": "6c9cbeb1-90b6-4972-82e3-38a6715611f6"
      },
      "outputs": [
        {
          "name": "stdout",
          "output_type": "stream",
          "text": [
            "Alice 20\n"
          ]
        }
      ],
      "source": [
        "class Person:\n",
        "    def __init__(self, name):\n",
        "        self.name = name\n",
        "\n",
        "class Mahasiswa(Person):\n",
        "    def __init__(self, name, umur):\n",
        "        super().__init__(name)\n",
        "        self.umur = umur\n",
        "\n",
        "mahasiswa = Mahasiswa(\"Alice\", 20)\n",
        "print(mahasiswa.name, mahasiswa.umur)"
      ]
    },
    {
      "cell_type": "markdown",
      "metadata": {
        "id": "geDJpt7OhAuu"
      },
      "source": [
        "Buat program yang menggunakan method overriding dalam inheritance."
      ]
    },
    {
      "cell_type": "code",
      "execution_count": null,
      "metadata": {
        "colab": {
          "base_uri": "https://localhost:8080/"
        },
        "id": "CkZ2Vh7ehRe_",
        "outputId": "789253b5-41bb-40f5-c7f8-c2a777c3b9fb"
      },
      "outputs": [
        {
          "name": "stdout",
          "output_type": "stream",
          "text": [
            "Dog barks\n"
          ]
        }
      ],
      "source": [
        "class Animal:\n",
        "    def speak(self):\n",
        "        print(\"Animal speaks\")\n",
        "\n",
        "class Dog(Animal):\n",
        "    def speak(self):\n",
        "        print(\"Dog barks\")\n",
        "\n",
        "dog = Dog()\n",
        "dog.speak()"
      ]
    },
    {
      "cell_type": "markdown",
      "metadata": {
        "id": "5PbwdO6WhArg"
      },
      "source": [
        "Buat program yang menampilkan jumlah objek yang dibuat dari sebuah class."
      ]
    },
    {
      "cell_type": "code",
      "execution_count": null,
      "metadata": {
        "colab": {
          "base_uri": "https://localhost:8080/"
        },
        "id": "fJtRrqGjhRxR",
        "outputId": "a31f56ac-3d3f-4ae6-8d66-f96425bbc847"
      },
      "outputs": [
        {
          "name": "stdout",
          "output_type": "stream",
          "text": [
            "2\n"
          ]
        }
      ],
      "source": [
        "class Counter:\n",
        "    count = 0\n",
        "\n",
        "    def __init__(self):\n",
        "        Counter.count += 1\n",
        "\n",
        "obj1 = Counter()\n",
        "obj2 = Counter()\n",
        "print(Counter.count)"
      ]
    },
    {
      "cell_type": "markdown",
      "metadata": {
        "id": "USSntoXThN7C"
      },
      "source": [
        "Buat program yang membuat class dengan method statis."
      ]
    },
    {
      "cell_type": "code",
      "execution_count": null,
      "metadata": {
        "colab": {
          "base_uri": "https://localhost:8080/"
        },
        "id": "Kkt6rCZPhOWy",
        "outputId": "3a44c54f-5c18-498c-b0a2-796d3d8921d5"
      },
      "outputs": [
        {
          "name": "stdout",
          "output_type": "stream",
          "text": [
            "12\n"
          ]
        }
      ],
      "source": [
        "class MathUtils:\n",
        "    @staticmethod\n",
        "    def add(a, b):\n",
        "        return a + b\n",
        "\n",
        "print(MathUtils.add(5, 7))"
      ]
    },
    {
      "cell_type": "markdown",
      "metadata": {
        "id": "TVWOTMqfhomP"
      },
      "source": [
        "Buat program yang meng-import modul matematika dan menggunakan fungsi `sqrt`."
      ]
    },
    {
      "cell_type": "code",
      "execution_count": null,
      "metadata": {
        "colab": {
          "base_uri": "https://localhost:8080/"
        },
        "id": "Y3KYiqjchyPB",
        "outputId": "a6123017-0078-44ad-e394-f975f865be98"
      },
      "outputs": [
        {
          "name": "stdout",
          "output_type": "stream",
          "text": [
            "4.0\n"
          ]
        }
      ],
      "source": [
        "import math\n",
        "print(math.sqrt(16))"
      ]
    },
    {
      "cell_type": "markdown",
      "metadata": {
        "id": "zRoYJAcyhoWH"
      },
      "source": [
        "Buat modul sendiri untuk menghitung luas dan keliling persegi."
      ]
    },
    {
      "cell_type": "code",
      "execution_count": null,
      "metadata": {
        "id": "eFMfEZXKhy5C"
      },
      "outputs": [],
      "source": [
        "# square.py\n",
        "def area(side):\n",
        "    return side * side\n",
        "\n",
        "def perimeter(side):\n",
        "    return 4 * side"
      ]
    },
    {
      "cell_type": "code",
      "execution_count": null,
      "metadata": {
        "id": "-sF_Os2riA04"
      },
      "outputs": [],
      "source": [
        "# cuboid.py\n",
        "def volume(length, width, height):\n",
        "    return length * width * height"
      ]
    },
    {
      "cell_type": "code",
      "execution_count": null,
      "metadata": {
        "id": "bEukvm8ciEJo"
      },
      "outputs": [],
      "source": [
        "# sphere.py\n",
        "import math\n",
        "def volume(radius):\n",
        "    return (4/3) * math.pi * radius**3"
      ]
    },
    {
      "cell_type": "markdown",
      "metadata": {
        "id": "UITaTmtqhoRz"
      },
      "source": [
        "Buat package untuk menghitung volume berbagai bangun ruang."
      ]
    },
    {
      "cell_type": "code",
      "execution_count": null,
      "metadata": {
        "id": "Ie9_mKIWhzNx"
      },
      "outputs": [],
      "source": [
        "import math\n",
        "def volume(radius):\n",
        "    return (4/3) * math.pi * radius**3"
      ]
    },
    {
      "cell_type": "markdown",
      "metadata": {
        "id": "d0RfR0wzhoOi"
      },
      "source": [
        "Buat program yang meng-import modul random dan menghasilkan angka acak."
      ]
    },
    {
      "cell_type": "code",
      "execution_count": null,
      "metadata": {
        "colab": {
          "base_uri": "https://localhost:8080/"
        },
        "id": "yTRApa2whztY",
        "outputId": "96d2af94-3009-42e8-9014-94799e19b72c"
      },
      "outputs": [
        {
          "name": "stdout",
          "output_type": "stream",
          "text": [
            "80\n"
          ]
        }
      ],
      "source": [
        "import random\n",
        "print(random.randint(1, 100))"
      ]
    },
    {
      "cell_type": "markdown",
      "metadata": {
        "id": "stULtcqjhoLj"
      },
      "source": [
        "Buat program yang menggunakan fungsi waktu untuk menghitung lama eksekusi program."
      ]
    },
    {
      "cell_type": "code",
      "execution_count": null,
      "metadata": {
        "colab": {
          "base_uri": "https://localhost:8080/"
        },
        "id": "5qUE0G5fh0XB",
        "outputId": "d0d20106-ed0e-4c6d-c6aa-7e8640b68eb8"
      },
      "outputs": [
        {
          "name": "stdout",
          "output_type": "stream",
          "text": [
            "Execution time: 1.0014221668243408 seconds\n"
          ]
        }
      ],
      "source": [
        "import time\n",
        "start_time = time.time()\n",
        "\n",
        "time.sleep(1)\n",
        "end_time = time.time()\n",
        "print(\"Execution time:\", end_time - start_time, \"seconds\")"
      ]
    },
    {
      "cell_type": "markdown",
      "metadata": {
        "id": "xR-nAw4IhoIu"
      },
      "source": [
        "Buat fungsi lambda untuk menghitung kuadrat dari sebuah angka."
      ]
    },
    {
      "cell_type": "code",
      "execution_count": null,
      "metadata": {
        "colab": {
          "base_uri": "https://localhost:8080/"
        },
        "id": "Ssjh-b7Eis7v",
        "outputId": "4494e1bb-490e-415d-e47a-4b9d5951766c"
      },
      "outputs": [
        {
          "name": "stdout",
          "output_type": "stream",
          "text": [
            "25\n"
          ]
        }
      ],
      "source": [
        "square = lambda x: x * x\n",
        "print(square(5))"
      ]
    },
    {
      "cell_type": "markdown",
      "metadata": {
        "id": "cwLXiS1LhoFp"
      },
      "source": [
        "Buat program yang menggunakan `map` untuk menghitung kuadrat dari semua elemen dalam list."
      ]
    },
    {
      "cell_type": "code",
      "execution_count": null,
      "metadata": {
        "colab": {
          "base_uri": "https://localhost:8080/"
        },
        "id": "IiNJ6eaUitoA",
        "outputId": "dcbfd32f-660b-4346-d82d-6a5e42efbccd"
      },
      "outputs": [
        {
          "name": "stdout",
          "output_type": "stream",
          "text": [
            "[1, 4, 9, 16, 25]\n"
          ]
        }
      ],
      "source": [
        "numbers = [1, 2, 3, 4, 5]\n",
        "squares = list(map(lambda x: x * x, numbers))\n",
        "print(squares)"
      ]
    },
    {
      "cell_type": "markdown",
      "metadata": {
        "id": "KWP8bDYqhoCI"
      },
      "source": [
        "Buat program yang menggunakan `filter` untuk menyaring bilangan ganjil dari list."
      ]
    },
    {
      "cell_type": "code",
      "execution_count": null,
      "metadata": {
        "colab": {
          "base_uri": "https://localhost:8080/"
        },
        "id": "6VOLm_HliumI",
        "outputId": "0c207111-f034-47ae-f09b-3049bc3c2342"
      },
      "outputs": [
        {
          "name": "stdout",
          "output_type": "stream",
          "text": [
            "[1, 3, 5]\n"
          ]
        }
      ],
      "source": [
        "numbers = [1, 2, 3, 4, 5, 6]\n",
        "odds = list(filter(lambda x: x % 2 != 0, numbers))\n",
        "print(odds)"
      ]
    },
    {
      "cell_type": "markdown",
      "metadata": {
        "id": "aufry-J7ilEV"
      },
      "source": [
        "Buat program yang menggunakan `reduce` untuk menghitung jumlah semua elemen dalam list."
      ]
    },
    {
      "cell_type": "code",
      "execution_count": null,
      "metadata": {
        "colab": {
          "base_uri": "https://localhost:8080/"
        },
        "id": "nRZB0Vjiiu9H",
        "outputId": "53ec2c7b-861a-44e1-fdb0-01b05bed06de"
      },
      "outputs": [
        {
          "name": "stdout",
          "output_type": "stream",
          "text": [
            "15\n"
          ]
        }
      ],
      "source": [
        "from functools import reduce\n",
        "numbers = [1, 2, 3, 4, 5]\n",
        "total = reduce(lambda x, y: x + y, numbers)\n",
        "print(total)"
      ]
    },
    {
      "cell_type": "markdown",
      "metadata": {
        "id": "WA1jDozFilA7"
      },
      "source": [
        "Buat program untuk menghitung jumlah huruf vokal dalam sebuah string."
      ]
    },
    {
      "cell_type": "code",
      "execution_count": null,
      "metadata": {
        "colab": {
          "base_uri": "https://localhost:8080/"
        },
        "id": "8lTKVUJrj6Dn",
        "outputId": "aa192cb6-a135-4e04-ab62-a74accb22870"
      },
      "outputs": [
        {
          "name": "stdout",
          "output_type": "stream",
          "text": [
            "3\n"
          ]
        }
      ],
      "source": [
        "string = \"hello world\"\n",
        "vowels = \"aeiou\"\n",
        "count = sum(1 for char in string if char in vowels)\n",
        "print(count)"
      ]
    },
    {
      "cell_type": "markdown",
      "metadata": {
        "id": "qO7kOmF_ik7P"
      },
      "source": [
        "Buat program untuk memeriksa apakah string adalah palindrom."
      ]
    },
    {
      "cell_type": "code",
      "execution_count": null,
      "metadata": {
        "colab": {
          "base_uri": "https://localhost:8080/"
        },
        "id": "QF6oLjRoj8nQ",
        "outputId": "59aef709-2ef2-48c4-b78d-1d477a7c8269"
      },
      "outputs": [
        {
          "name": "stdout",
          "output_type": "stream",
          "text": [
            "True\n"
          ]
        }
      ],
      "source": [
        "def is_palindrome(s):\n",
        "    return s == s[::-1]\n",
        "\n",
        "print(is_palindrome(\"madam\"))"
      ]
    },
    {
      "cell_type": "markdown",
      "metadata": {
        "id": "XBpOl4UbjnLU"
      },
      "source": [
        "Buat program yang menggunakan nested loop untuk menampilkan pola bintang."
      ]
    },
    {
      "cell_type": "code",
      "execution_count": null,
      "metadata": {
        "colab": {
          "base_uri": "https://localhost:8080/"
        },
        "id": "eSqhd09gj-yw",
        "outputId": "426bdc38-094d-4af5-86a6-65f0d8644976"
      },
      "outputs": [
        {
          "name": "stdout",
          "output_type": "stream",
          "text": [
            "*\n",
            "**\n",
            "***\n",
            "****\n",
            "*****\n"
          ]
        }
      ],
      "source": [
        "for i in range(5):\n",
        "    for j in range(i + 1):\n",
        "        print(\"*\", end=\"\")\n",
        "    print()"
      ]
    },
    {
      "cell_type": "markdown",
      "metadata": {
        "id": "qJwGkaT-jnIJ"
      },
      "source": [
        "Buat program untuk menghitung faktorial menggunakan iterasi."
      ]
    },
    {
      "cell_type": "code",
      "execution_count": null,
      "metadata": {
        "colab": {
          "base_uri": "https://localhost:8080/"
        },
        "id": "rfQrzeuZkA9P",
        "outputId": "3a2de793-2728-4306-bc6d-05950ac0e8eb"
      },
      "outputs": [
        {
          "name": "stdout",
          "output_type": "stream",
          "text": [
            "120\n"
          ]
        }
      ],
      "source": [
        "def factorial(n):\n",
        "    result = 1\n",
        "    for i in range(1, n + 1):\n",
        "        result *= i\n",
        "    return result\n",
        "\n",
        "print(factorial(5))"
      ]
    },
    {
      "cell_type": "markdown",
      "metadata": {
        "id": "SfM1kTnKjnEm"
      },
      "source": [
        "Buat program yang meminta input nama dan umur lalu menampilkannya dengan format tertentu."
      ]
    },
    {
      "cell_type": "code",
      "execution_count": null,
      "metadata": {
        "colab": {
          "base_uri": "https://localhost:8080/"
        },
        "id": "h2TVP0RAkC13",
        "outputId": "942a6b63-d4fc-4922-e4fb-9415d3cce1fc"
      },
      "outputs": [
        {
          "name": "stdout",
          "output_type": "stream",
          "text": [
            "Enter your name: Mulyono\n",
            "Enter your age: 12\n",
            "Name: Mulyono, Age: 12\n"
          ]
        }
      ],
      "source": [
        "name = input(\"Enter your name: \")\n",
        "age = int(input(\"Enter your age: \"))\n",
        "print(f\"Name: {name}, Age: {age}\")"
      ]
    },
    {
      "cell_type": "markdown",
      "metadata": {
        "id": "QHvAQ2LOjx4X"
      },
      "source": [
        "Buat program yang membalik urutan elemen dalam list tanpa menggunakan fungsi built-in."
      ]
    },
    {
      "cell_type": "code",
      "execution_count": null,
      "metadata": {
        "colab": {
          "base_uri": "https://localhost:8080/"
        },
        "id": "0xXk7eIRkMcO",
        "outputId": "ee310c0e-3963-4597-b677-1615cbb4d81a"
      },
      "outputs": [
        {
          "name": "stdout",
          "output_type": "stream",
          "text": [
            "[5, 4, 3, 2, 1]\n"
          ]
        }
      ],
      "source": [
        "my_list = [1, 2, 3, 4, 5]\n",
        "reversed_list = my_list[::-1]\n",
        "print(reversed_list)"
      ]
    },
    {
      "cell_type": "markdown",
      "metadata": {
        "id": "C1HqSkjSjxyk"
      },
      "source": [
        "Buat program yang menampilkan hari saat ini menggunakan modul `datetime`."
      ]
    },
    {
      "cell_type": "code",
      "execution_count": null,
      "metadata": {
        "colab": {
          "base_uri": "https://localhost:8080/"
        },
        "id": "xFNJwHPXkO8W",
        "outputId": "42a32c3c-bf54-4bbc-a74a-d7f4c68e6c2a"
      },
      "outputs": [
        {
          "name": "stdout",
          "output_type": "stream",
          "text": [
            "Tuesday\n"
          ]
        }
      ],
      "source": [
        "import datetime\n",
        "today = datetime.datetime.now()\n",
        "print(today.strftime(\"%A\"))"
      ]
    },
    {
      "cell_type": "markdown",
      "metadata": {
        "id": "BQxKGlffjxt9"
      },
      "source": [
        "Buat program yang menerima dua angka dari input, lalu menampilkan hasil pembagiannya."
      ]
    },
    {
      "cell_type": "code",
      "execution_count": null,
      "metadata": {
        "colab": {
          "base_uri": "https://localhost:8080/"
        },
        "id": "ZS7JGXwkkRdx",
        "outputId": "9c05c53b-fb7f-4f8c-9e86-93d844a6648e"
      },
      "outputs": [
        {
          "name": "stdout",
          "output_type": "stream",
          "text": [
            "Enter first number: 12\n",
            "Enter second number: 21\n",
            "0.5714285714285714\n"
          ]
        }
      ],
      "source": [
        "num1 = float(input(\"Enter first number: \"))\n",
        "num2 = float(input(\"Enter second number: \"))\n",
        "\n",
        "if num2 != 0:\n",
        "    print(num1 / num2)\n",
        "else:\n",
        "    print(\"Cannot divide by zero\")"
      ]
    }
  ],
  "metadata": {
    "colab": {
      "provenance": []
    },
    "kernelspec": {
      "display_name": "Python 3",
      "name": "python3"
    },
    "language_info": {
      "codemirror_mode": {
        "name": "ipython",
        "version": 3
      },
      "file_extension": ".py",
      "mimetype": "text/x-python",
      "name": "python",
      "nbconvert_exporter": "python",
      "pygments_lexer": "ipython3",
      "version": "3.11.5"
    }
  },
  "nbformat": 4,
  "nbformat_minor": 0
}
